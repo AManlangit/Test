{
 "cells": [
  {
   "cell_type": "code",
   "execution_count": null,
   "metadata": {},
   "outputs": [],
   "source": [
    "Smooth like butter, like a criminal undercover\n",
    "Gon' pop like trouble breaking into your heart like that, ooh\n",
    "Cool shade, stunner, yeah, I owe it all to my mother, uh\n",
    "Hot like summer, yeah, I'm making you sweat like that (break it down!)\n",
    "Ooh, when I look in the mirror\n",
    "I'll melt your heart into two\n",
    "I got that superstar glow, so\n",
    "Ooh (do the boogie, like)\n",
    "A side step, right-left, to my beat\n",
    "High like the moon, rock with me, baby\n",
    "Know that I got that heat\n",
    "Let me show you 'cause talk is cheap\n",
    "Side step, right-left, to my beat\n",
    "Get it, let it roll\n",
    "Smooth like butter, pull you in like no other\n",
    "Don't need no Usher to remind me you got it bad\n",
    "Ain't no other that can sweep you up like a robber\n",
    "Straight up, I (got ya)\n",
    "Making you fall like that (break it down)\n",
    "Ooh, when I look in the mirror\n",
    "I'll melt your heart into two\n",
    "I got that superstar glow, so\n",
    "Ooh (do the boogie, like)\n",
    "Side step, right-left, to my beat\n",
    "High like the moon, rock with me, baby\n",
    "Know that I got that heat\n",
    "Let me show you 'cause talk is cheap\n",
    "A side step, right-left, to my beat\n",
    "Get it, let it roll\n",
    "Get it, let it roll\n",
    "Get it, let it roll\n",
    "Ice on my wrist, I'm the nice guy\n",
    "Got the right body and the right mind\n",
    "Rolling up the party, got the right vibe\n",
    "Smooth like (butter), hate us (love us)\n",
    "Fresh boy, pull up and we lay low\n",
    "All the players get moving when the bass low\n",
    "Got ARMY right behind us when we say so\n",
    "Let's go\n",
    "Side step, right-left, to my beat (right-left, to my beat)\n",
    "High like the moon, rock with me, baby\n",
    "You know that I got that heat\n",
    "Let me show you 'cause talk is cheap (you know that talk is cheap)\n",
    "Side step, right-left, to my beat\n",
    "Get it, let it roll\n",
    "Smooth like (butter), cool shade (stunner)\n",
    "And you know we don't stop\n",
    "Hot like (summer), ain't no (bummer)\n",
    "You'll be like, \"Oh my God\"\n",
    "We gon' make you rock, and you say (yeah)\n",
    "We gon' make you bounce, and you say (yeah)\n",
    "Hotter, sweeter, cooler, butter!\n",
    "Get it, let it roll\n"
   ]
  },
  {
   "cell_type": "markdown",
   "metadata": {},
   "source": [
    "![BTS](BTS.PNG)"
   ]
  },
  {
   "cell_type": "markdown",
   "metadata": {},
   "source": []
  }
 ],
 "metadata": {
  "language_info": {
   "name": "python"
  },
  "orig_nbformat": 4
 },
 "nbformat": 4,
 "nbformat_minor": 2
}
